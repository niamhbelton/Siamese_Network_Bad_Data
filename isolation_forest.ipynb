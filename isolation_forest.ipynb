{
  "nbformat": 4,
  "nbformat_minor": 0,
  "metadata": {
    "colab": {
      "name": "Isolation_forest2.ipynb",
      "provenance": [],
      "collapsed_sections": []
    },
    "kernelspec": {
      "name": "python3",
      "display_name": "Python 3"
    },
    "language_info": {
      "name": "python"
    }
  },
  "cells": [
    {
      "cell_type": "code",
      "metadata": {
        "id": "aCuGfp3qrQmf"
      },
      "source": [
        "import numpy as np\n",
        "import cv2\n",
        "import os \n",
        "from sklearn.ensemble import IsolationForest\n",
        "import pandas as pd\n",
        "from sklearn.metrics import roc_curve\n",
        "from sklearn import metrics\n"
      ],
      "execution_count": 2,
      "outputs": []
    },
    {
      "cell_type": "code",
      "metadata": {
        "id": "YfMoXVFQrQ3i"
      },
      "source": [
        "#create features\n",
        "def quantify_image(image):\n",
        "\thist =cv2.calcHist([image], [0], mask=None, histSize=[6], ranges=[0, 256])\n",
        "\thist = cv2.normalize(hist, hist).flatten()\n",
        "\treturn hist"
      ],
      "execution_count": 3,
      "outputs": []
    },
    {
      "cell_type": "code",
      "metadata": {
        "id": "_lKc6QnLrRDp"
      },
      "source": [
        "#load dataset\n",
        "def load_dataset(datasetPath, indexes):\n",
        "    imagePaths = os.listdir(datasetPath)\n",
        "    data = []\n",
        "    string=''\n",
        "    for i in indexes:\n",
        "      if len(str(i)) == 1:\n",
        "          string = '000' + str(i) + '.npy'\n",
        "      elif len(str(i)) == 2:\n",
        "          string = '00' + str(i)+ '.npy'\n",
        "      elif len(str(i)) == 3:\n",
        "          string = '0' + str(i)+ '.npy'\n",
        "      elif len(str(i)) == 4:\n",
        "          string = str(i)+ '.npy'\n",
        "      image = np.load(datasetPath+ string)\n",
        "      features = quantify_image(image)\n",
        "      data.append(features)\n",
        "    return np.array(data)"
      ],
      "execution_count": 4,
      "outputs": []
    },
    {
      "cell_type": "code",
      "metadata": {
        "id": "hT2Qa0_Erkow"
      },
      "source": [
        "#load in metadata and get indexes of training cases\n",
        "meta = pd.read_csv('/content/gdrive/MyDrive/siamese/Github/metadata.csv') \n",
        "indexes = meta.loc[meta['iso_set']==1].index.values"
      ],
      "execution_count": 27,
      "outputs": []
    },
    {
      "cell_type": "code",
      "metadata": {
        "id": "5kKfNikBxNEG"
      },
      "source": [
        "#load the train dataset\n",
        "train = load_dataset('/content/gdrive/MyDrive/MRNet/data/train/sagittal/', indexes)\n"
      ],
      "execution_count": 7,
      "outputs": []
    },
    {
      "cell_type": "code",
      "metadata": {
        "colab": {
          "base_uri": "https://localhost:8080/"
        },
        "id": "nHmpsuyFxNJ4",
        "outputId": "4847218e-b408-4b4a-f478-426435f1bd7f"
      },
      "source": [
        "#train the model\n",
        "model = IsolationForest(n_estimators=100, contamination=0.01,\n",
        "\trandom_state=42)\n",
        "model.fit(train)"
      ],
      "execution_count": 8,
      "outputs": [
        {
          "output_type": "execute_result",
          "data": {
            "text/plain": [
              "IsolationForest(behaviour='deprecated', bootstrap=False, contamination=0.01,\n",
              "                max_features=1.0, max_samples='auto', n_estimators=100,\n",
              "                n_jobs=None, random_state=42, verbose=0, warm_start=False)"
            ]
          },
          "metadata": {
            "tags": []
          },
          "execution_count": 8
        }
      ]
    },
    {
      "cell_type": "code",
      "metadata": {
        "id": "nX2P6X6LxNN-"
      },
      "source": [
        "#get index of test set that are present in the official mrnet training data\n",
        "test_ind = meta.loc[(meta['test']==1) & (meta['mrnet_split'] == 0), 'id']\n",
        "#create features for test data in the official train set\n",
        "test_p1 = load_dataset('/content/gdrive/MyDrive/MRNet/data/train/sagittal/', test_ind)\n",
        "#create features for test data in the official validation set\n",
        "test_p2 = load_dataset('/content/gdrive/MyDrive/MRNet/data/valid/sagittal/', list(meta.loc[(meta['test']==1) & (meta['mrnet_split'] == 1), 'id']))\n",
        "#merge the features for the test data\n",
        "test_all = np.zeros((len(meta.loc[meta['test']==1]), test_p1.shape[1]))\n",
        "test_all[:test_p1.shape[0],:] = test_p1\n",
        "test_all[test_p1.shape[0]:,:] = test_p2"
      ],
      "execution_count": 29,
      "outputs": []
    },
    {
      "cell_type": "code",
      "metadata": {
        "id": "X152WLDsAfPy"
      },
      "source": [
        "#predict no test set\n",
        "preds=[]\n",
        "for ind in range(0, len(test_all)):\n",
        "  preds.append(model.score_samples([test_all[ind]])[0] * -1)\n",
        "  \n",
        "#create dataframe with MRI id and probability\n",
        "p =pd.concat([meta.loc[meta['test']==1, 'id'].reset_index(drop=True), pd.DataFrame(preds)], axis =1)\n",
        "p.columns=['id','pred']"
      ],
      "execution_count": 30,
      "outputs": []
    },
    {
      "cell_type": "code",
      "metadata": {
        "id": "Yq5VA9PECIUW"
      },
      "source": [
        "#get labels \n",
        "p=p.merge( meta[['id', 'label']], on='id', how='left')"
      ],
      "execution_count": 31,
      "outputs": []
    },
    {
      "cell_type": "code",
      "metadata": {
        "colab": {
          "base_uri": "https://localhost:8080/"
        },
        "id": "n9HKz9InCQcU",
        "outputId": "b9a0d3ea-4913-4c62-ff74-53d9e4dfe47c"
      },
      "source": [
        "#calculate AUC \n",
        "fpr, tpr, thresholds = roc_curve(p['label'],p['pred'])\n",
        "metrics.auc(fpr, tpr)"
      ],
      "execution_count": 25,
      "outputs": [
        {
          "output_type": "execute_result",
          "data": {
            "text/plain": [
              "0.8017174082747853"
            ]
          },
          "metadata": {
            "tags": []
          },
          "execution_count": 25
        }
      ]
    },
    {
      "cell_type": "code",
      "metadata": {
        "id": "n3YR1cAgCYSA"
      },
      "source": [
        ""
      ],
      "execution_count": 32,
      "outputs": []
    },
    {
      "cell_type": "code",
      "metadata": {
        "id": "Y703uBCTBL93"
      },
      "source": [
        ""
      ],
      "execution_count": 25,
      "outputs": []
    },
    {
      "cell_type": "code",
      "metadata": {
        "id": "I--iHOGDB1wi"
      },
      "source": [
        ""
      ],
      "execution_count": 25,
      "outputs": []
    },
    {
      "cell_type": "code",
      "metadata": {
        "id": "lTcxJcQtxNS2"
      },
      "source": [
        ""
      ],
      "execution_count": 25,
      "outputs": []
    },
    {
      "cell_type": "code",
      "metadata": {
        "id": "zH-WmAQn2XLK"
      },
      "source": [
        ""
      ],
      "execution_count": null,
      "outputs": []
    },
    {
      "cell_type": "code",
      "metadata": {
        "id": "4Zfuj7nd6roK"
      },
      "source": [
        ""
      ],
      "execution_count": null,
      "outputs": []
    },
    {
      "cell_type": "code",
      "metadata": {
        "id": "hJoSaDfa6sn_"
      },
      "source": [
        ""
      ],
      "execution_count": null,
      "outputs": []
    },
    {
      "cell_type": "code",
      "metadata": {
        "id": "lxZ47Vg-xNXY"
      },
      "source": [
        ""
      ],
      "execution_count": 25,
      "outputs": []
    },
    {
      "cell_type": "code",
      "metadata": {
        "id": "p0n9riRA2i8w"
      },
      "source": [
        ""
      ],
      "execution_count": null,
      "outputs": []
    }
  ]
}